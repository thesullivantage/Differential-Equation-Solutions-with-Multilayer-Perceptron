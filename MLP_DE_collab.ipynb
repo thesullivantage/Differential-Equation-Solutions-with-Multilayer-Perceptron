{
  "nbformat": 4,
  "nbformat_minor": 0,
  "metadata": {
    "colab": {
      "provenance": [],
      "toc_visible": true
    },
    "kernelspec": {
      "name": "python3",
      "display_name": "Python 3"
    },
    "language_info": {
      "name": "python"
    }
  },
  "cells": [
    {
      "cell_type": "code",
      "source": [
        "# Remove repo in local Colab storage if needed\n",
        "!rm -r Differential-Equation-Solutions-with-Multilayer-Perceptron"
      ],
      "metadata": {
        "id": "Voh4keEQB80B"
      },
      "execution_count": 5,
      "outputs": []
    },
    {
      "cell_type": "code",
      "source": [
        "# clone repo if we don't have in this session, specify branch after -b\n",
        "!git clone -b main https://github.com/thesullivantage/Differential-Equation-Solutions-with-Multilayer-Perceptron\n",
        "# if already exists, just pull in next cell"
      ],
      "metadata": {
        "colab": {
          "base_uri": "https://localhost:8080/"
        },
        "id": "Fgr9oWaoJkRS",
        "outputId": "6e02b8b6-d1c5-4d1d-cc33-d51145ef20a5"
      },
      "execution_count": 6,
      "outputs": [
        {
          "output_type": "stream",
          "name": "stdout",
          "text": [
            "Cloning into 'Differential-Equation-Solutions-with-Multilayer-Perceptron'...\n",
            "remote: Enumerating objects: 102, done.\u001b[K\n",
            "remote: Counting objects: 100% (102/102), done.\u001b[K\n",
            "remote: Compressing objects: 100% (64/64), done.\u001b[K\n",
            "remote: Total 102 (delta 48), reused 77 (delta 31), pack-reused 0\u001b[K\n",
            "Receiving objects: 100% (102/102), 23.19 KiB | 2.90 MiB/s, done.\n",
            "Resolving deltas: 100% (48/48), done.\n"
          ]
        }
      ]
    },
    {
      "cell_type": "code",
      "source": [
        "# Update (pull) repo from branch of our choosing\n",
        "!cd Differential-Equation-Solutions-with-Multilayer-Perceptron && git checkout main && git pull"
      ],
      "metadata": {
        "colab": {
          "base_uri": "https://localhost:8080/"
        },
        "id": "HQVc5OjKLLUd",
        "outputId": "47647aaf-1fc9-46e5-87d9-a6ee449b99dd"
      },
      "execution_count": 7,
      "outputs": [
        {
          "output_type": "stream",
          "name": "stdout",
          "text": [
            "Already on 'main'\n",
            "Your branch is up to date with 'origin/main'.\n",
            "Already up to date.\n"
          ]
        }
      ]
    },
    {
      "cell_type": "code",
      "source": [
        "import sys\n",
        "import os\n",
        "from importlib import reload"
      ],
      "metadata": {
        "id": "OJVxPN7FGCqF"
      },
      "execution_count": 8,
      "outputs": []
    },
    {
      "cell_type": "code",
      "source": [
        "sys.path.insert(0, 'Differential-Equation-Solutions-with-Multilayer-Perceptron')"
      ],
      "metadata": {
        "id": "xCJTKUcpKecQ"
      },
      "execution_count": 9,
      "outputs": []
    },
    {
      "cell_type": "code",
      "source": [
        "# to reload modules as we make changes\n",
        "reload(loss)\n",
        "reload(model)\n"
      ],
      "metadata": {
        "id": "T7a__mMvjqDT",
        "colab": {
          "base_uri": "https://localhost:8080/"
        },
        "outputId": "ead174d7-b1a8-4402-bd8f-3748422462e1"
      },
      "execution_count": 14,
      "outputs": [
        {
          "output_type": "execute_result",
          "data": {
            "text/plain": [
              "<module 'model_pk.model' from '/content/Differential-Equation-Solutions-with-Multilayer-Perceptron/model_pk/model.py'>"
            ]
          },
          "metadata": {},
          "execution_count": 14
        }
      ]
    },
    {
      "cell_type": "code",
      "source": [
        "import model_pk\n",
        "from model_pk import loss, model"
      ],
      "metadata": {
        "id": "nzWuuLwtGEqz"
      },
      "execution_count": 15,
      "outputs": []
    },
    {
      "cell_type": "code",
      "source": [
        "import sys\n",
        "import tensorflow.keras as keras\n",
        "import tensorflow as tf"
      ],
      "metadata": {
        "id": "Z4tPfmQpGO3M"
      },
      "execution_count": 16,
      "outputs": []
    },
    {
      "cell_type": "code",
      "source": [
        "# Range of independent variable values\n",
        "start = 1 # Start value\n",
        "limit = 100  # End value (exclusive)\n",
        "delta = 0.1  # Step size"
      ],
      "metadata": {
        "id": "Ck1ecr_0_-F5"
      },
      "execution_count": 17,
      "outputs": []
    },
    {
      "cell_type": "code",
      "source": [
        "optimizer = keras.optimizers.SGD(learning_rate=1e-3)\n",
        "mlp = model.MLP(num_embed_layer=2, phys_dimension=1,embed_dim=32)\n",
        "loss_fn = loss.LossODE(f0=0)\n"
      ],
      "metadata": {
        "id": "LD7qFuDKH5ka"
      },
      "execution_count": 18,
      "outputs": []
    },
    {
      "cell_type": "code",
      "source": [
        "### TODO: do not standardize; only train on unit standardized interval"
      ],
      "metadata": {
        "id": "t5_hJk7PiN9V"
      },
      "execution_count": 21,
      "outputs": []
    },
    {
      "cell_type": "code",
      "source": [
        "# Make simple ODE inputs for f'(x) = 2x\n",
        "phys_dimension = 1\n",
        "# Range of independent variable values\n",
        "start = 0  # Start value\n",
        "limit = 100  # End value (exclusive)\n",
        "delta = 0.1  # Step size\n",
        "\n",
        "# Create a TensorFlow array in the style of np.arange\n",
        "inputs = tf.reshape(tf.range(start, limit, delta, dtype=tf.float32), (-1, phys_dimension))\n",
        "# Calculate mean and standard deviation\n",
        "mean, variance = tf.nn.moments(inputs, axes=[0])\n",
        "std_dev = tf.sqrt(variance)\n",
        "\n",
        "# Standardize the data\n",
        "standardized_inputs = (inputs - mean) / std_dev"
      ],
      "metadata": {
        "id": "j16lPLp7HPaa"
      },
      "execution_count": 19,
      "outputs": []
    },
    {
      "cell_type": "code",
      "source": [
        "# Training loop\n",
        "num_epochs = 5  # Define the number of epochs\n",
        "\n",
        "### Trained using SGD optimization (MSE), without replacement\n",
        "### n (dim. inputs) gradient updates\n",
        "for epoch in range(1, num_epochs+1):\n",
        "    ### increment squared loss over entire epoch (dataset)\n",
        "    epoch_total_loss = 0\n",
        "    for input_example in standardized_inputs:\n",
        "        # input_example_reshaped = tf.reshape(input_example, (1, phys_dimension))input_example_reshaped = tf.reshape(input_example, (1,))\n",
        "        input_example_reshaped = tf.reshape(input_example, (1,1))\n",
        "        with tf.GradientTape() as tape:\n",
        "            # Compute the loss for the current input example (squared error)\n",
        "            loss_curr = loss_fn.compute_loss_element(mlp, input_example_reshaped)\n",
        "            epoch_total_loss += loss_curr\n",
        "        # Compute gradients and update model parameters\n",
        "        gradients = tape.gradient(loss_curr, mlp.trainable_variables)\n",
        "        optimizer.apply_gradients(zip(gradients, mlp.trainable_variables))\n",
        "    epoch_avg_loss = epoch_total_loss / tf.cast(inputs.shape[0], tf.float32)\n",
        "    print(f'Epoch {epoch} Average Loss: ', epoch_avg_loss)"
      ],
      "metadata": {
        "colab": {
          "base_uri": "https://localhost:8080/"
        },
        "id": "8RAmZWZuBjw6",
        "outputId": "9c23e4a1-463c-47fe-d95a-c41e9ee6a0f0",
        "collapsed": true
      },
      "execution_count": 20,
      "outputs": [
        {
          "output_type": "stream",
          "name": "stdout",
          "text": [
            "Epoch 1 Average Loss:  tf.Tensor([[4.]], shape=(1, 1), dtype=float32)\n",
            "Epoch 2 Average Loss:  tf.Tensor([[4.0000076]], shape=(1, 1), dtype=float32)\n",
            "Epoch 3 Average Loss:  tf.Tensor([[4.000011]], shape=(1, 1), dtype=float32)\n",
            "Epoch 4 Average Loss:  tf.Tensor([[4.0000076]], shape=(1, 1), dtype=float32)\n",
            "Epoch 5 Average Loss:  tf.Tensor([[4.000007]], shape=(1, 1), dtype=float32)\n"
          ]
        }
      ]
    },
    {
      "cell_type": "code",
      "source": [
        "# Training loop\n",
        "num_epochs = 25  # Define the number of epochs\n",
        "for epoch in range(num_epochs):\n",
        "    with tf.GradientTape() as tape:\n",
        "\n",
        "        # Compute the loss\n",
        "        loss_curr = loss_fn.custom_de_loss(inputs, mlp)\n",
        "\n",
        "    # Compute gradients and update model weights\n",
        "    gradients = tape.gradient(loss_curr, mlp.trainable_variables)\n",
        "    optimizer.apply_gradients(zip(gradients, mlp.trainable_variables))\n",
        "\n",
        "    # Print loss every epoch (or as needed)\n",
        "    print(f\"Epoch {epoch + 1}, Loss: {loss.numpy()}\")"
      ],
      "metadata": {
        "id": "I4ZDyYDAHUeu"
      },
      "execution_count": null,
      "outputs": []
    },
    {
      "cell_type": "code",
      "source": [
        "import numpy as np"
      ],
      "metadata": {
        "id": "NxIj_2H3RVTz"
      },
      "execution_count": null,
      "outputs": []
    },
    {
      "cell_type": "code",
      "source": [
        "np.linspace(-1, 1, 10)"
      ],
      "metadata": {
        "colab": {
          "base_uri": "https://localhost:8080/"
        },
        "id": "5KPdsOCEVpx1",
        "outputId": "040e637f-7604-44d9-be80-fed33d34c73c"
      },
      "execution_count": null,
      "outputs": [
        {
          "output_type": "execute_result",
          "data": {
            "text/plain": [
              "array([-1.        , -0.77777778, -0.55555556, -0.33333333, -0.11111111,\n",
              "        0.11111111,  0.33333333,  0.55555556,  0.77777778,  1.        ])"
            ]
          },
          "metadata": {},
          "execution_count": 135
        }
      ]
    },
    {
      "cell_type": "code",
      "source": [],
      "metadata": {
        "id": "UWRFghqrVsOw"
      },
      "execution_count": null,
      "outputs": []
    }
  ]
}