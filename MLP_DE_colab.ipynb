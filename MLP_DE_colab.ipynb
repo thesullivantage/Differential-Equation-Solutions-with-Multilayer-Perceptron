{
  "nbformat": 4,
  "nbformat_minor": 0,
  "metadata": {
    "colab": {
      "provenance": []
    },
    "kernelspec": {
      "name": "python3",
      "display_name": "Python 3"
    },
    "language_info": {
      "name": "python"
    }
  },
  "cells": [
    {
      "cell_type": "code",
      "source": [
        "# Remove repo in local Colab storage if needed\n",
        "!rm -r Differential-Equation-Solutions-with-Multilayer-Perceptron"
      ],
      "metadata": {
        "id": "Voh4keEQB80B",
        "colab": {
          "base_uri": "https://localhost:8080/"
        },
        "outputId": "136047b2-5c60-4445-c1e7-11aa7bbf0758"
      },
      "execution_count": null,
      "outputs": [
        {
          "output_type": "stream",
          "name": "stdout",
          "text": [
            "rm: cannot remove 'Differential-Equation-Solutions-with-Multilayer-Perceptron': No such file or directory\n"
          ]
        }
      ]
    },
    {
      "cell_type": "code",
      "source": [
        "# clone repo if we don't have in this session, specify branch after -b\n",
        "!git clone -b main https://github.com/thesullivantage/Differential-Equation-Solutions-with-Multilayer-Perceptron\n",
        "# if already exists, just pull in next cell"
      ],
      "metadata": {
        "colab": {
          "base_uri": "https://localhost:8080/"
        },
        "id": "Fgr9oWaoJkRS",
        "outputId": "01b9d153-70e3-4a3d-eaaf-38c5fa44a179"
      },
      "execution_count": 2,
      "outputs": [
        {
          "output_type": "stream",
          "name": "stdout",
          "text": [
            "Cloning into 'Differential-Equation-Solutions-with-Multilayer-Perceptron'...\n",
            "remote: Enumerating objects: 151, done.\u001b[K\n",
            "remote: Counting objects: 100% (151/151), done.\u001b[K\n",
            "remote: Compressing objects: 100% (75/75), done.\u001b[K\n",
            "remote: Total 151 (delta 76), reused 136 (delta 69), pack-reused 0\u001b[K\n",
            "Receiving objects: 100% (151/151), 33.75 KiB | 2.41 MiB/s, done.\n",
            "Resolving deltas: 100% (76/76), done.\n"
          ]
        }
      ]
    },
    {
      "cell_type": "code",
      "source": [
        "# Update (pull) repo from branch of our choosing\n",
        "!cd Differential-Equation-Solutions-with-Multilayer-Perceptron && git checkout main && git pull"
      ],
      "metadata": {
        "colab": {
          "base_uri": "https://localhost:8080/"
        },
        "id": "HQVc5OjKLLUd",
        "outputId": "72f6b5ee-ef33-49ed-ecb9-553ba2f47623"
      },
      "execution_count": 17,
      "outputs": [
        {
          "output_type": "stream",
          "name": "stdout",
          "text": [
            "Already on 'main'\n",
            "Your branch is up to date with 'origin/main'.\n",
            "remote: Enumerating objects: 10, done.\u001b[K\n",
            "remote: Counting objects: 100% (10/10), done.\u001b[K\n",
            "remote: Compressing objects: 100% (3/3), done.\u001b[K\n",
            "remote: Total 6 (delta 2), reused 6 (delta 2), pack-reused 0\u001b[K\n",
            "Unpacking objects: 100% (6/6), 1.82 KiB | 930.00 KiB/s, done.\n",
            "From https://github.com/thesullivantage/Differential-Equation-Solutions-with-Multilayer-Perceptron\n",
            "   06b15c8..5f58c66  main       -> origin/main\n",
            "Updating 06b15c8..5f58c66\n",
            "Fast-forward\n",
            " .gitignore         |  1 \u001b[32m+\u001b[m\n",
            " mlp_de_training.py | 79 \u001b[32m++++++++++++++++++++++++++++++++++++++++++++++++++++++++++++++++++++++++++\u001b[m\n",
            " model_pk/loss.py   | 17 \u001b[32m++++++++++\u001b[m\u001b[31m------\u001b[m\n",
            " run_train.py       | 71 \u001b[31m------------------------------------------------------------------\u001b[m\n",
            " 4 files changed, 91 insertions(+), 77 deletions(-)\n",
            " create mode 100644 mlp_de_training.py\n",
            " delete mode 100644 run_train.py\n"
          ]
        }
      ]
    },
    {
      "cell_type": "code",
      "source": [
        "import sys\n",
        "import os\n",
        "from importlib import reload"
      ],
      "metadata": {
        "id": "OJVxPN7FGCqF"
      },
      "execution_count": 18,
      "outputs": []
    },
    {
      "cell_type": "code",
      "source": [
        "sys.path.insert(0, 'Differential-Equation-Solutions-with-Multilayer-Perceptron')"
      ],
      "metadata": {
        "id": "xCJTKUcpKecQ"
      },
      "execution_count": 19,
      "outputs": []
    },
    {
      "cell_type": "code",
      "source": [
        "# to reload modules as we make changes\n",
        "reload(loss)\n",
        "reload(model)\n"
      ],
      "metadata": {
        "id": "T7a__mMvjqDT",
        "colab": {
          "base_uri": "https://localhost:8080/"
        },
        "outputId": "5f002bca-2513-486e-ba6a-7717dea75f54"
      },
      "execution_count": 20,
      "outputs": [
        {
          "output_type": "execute_result",
          "data": {
            "text/plain": [
              "<module 'model_pk.model' from '/content/Differential-Equation-Solutions-with-Multilayer-Perceptron/model_pk/model.py'>"
            ]
          },
          "metadata": {},
          "execution_count": 20
        }
      ]
    },
    {
      "cell_type": "code",
      "source": [
        "import model_pk\n",
        "from model_pk import loss, model"
      ],
      "metadata": {
        "id": "nzWuuLwtGEqz"
      },
      "execution_count": 21,
      "outputs": []
    },
    {
      "cell_type": "code",
      "source": [
        "import sys\n",
        "import tensorflow.keras as keras\n",
        "import tensorflow as tf"
      ],
      "metadata": {
        "id": "Z4tPfmQpGO3M"
      },
      "execution_count": 22,
      "outputs": []
    },
    {
      "cell_type": "code",
      "source": [
        "f0=0"
      ],
      "metadata": {
        "id": "08RMlC2wPDFq"
      },
      "execution_count": 35,
      "outputs": []
    },
    {
      "cell_type": "code",
      "source": [
        "optimizer = keras.optimizers.SGD(learning_rate=1e-3)\n",
        "mlp = model.MLP(num_embed_layer=3, phys_dimension=1,embed_dim=64)\n",
        "loss_fn = loss.LossODE(f0=f0, dell=None) # default del_x\n",
        "\n"
      ],
      "metadata": {
        "id": "LD7qFuDKH5ka"
      },
      "execution_count": 71,
      "outputs": []
    },
    {
      "cell_type": "code",
      "source": [
        "# Make simple ODE domain for f'(x) = 2x: STANDARDIZED OR NORMALIZED\n",
        "phys_dimension = 1\n",
        "# Range of independent variable values on unit norm interval\n",
        "start = 0  # Start value\n",
        "limit = 1  # End value (exclusive)\n",
        "delta = 0.001  # Step size\n",
        "\n",
        "# Create a TensorFlow array in the style of np.arange\n",
        "inputs = tf.reshape(tf.range(start, limit, delta, dtype=tf.float32), (-1, phys_dimension))\n"
      ],
      "metadata": {
        "id": "j16lPLp7HPaa"
      },
      "execution_count": 72,
      "outputs": []
    },
    {
      "cell_type": "code",
      "source": [
        "# # Training loop\n",
        "# num_epochs = 25  # Define the number of epochs\n",
        "\n",
        "# ### Trained using SGD optimization (MSE), without replacement\n",
        "# ### n (dim. inputs) gradient updates\n",
        "# for epoch in range(1, num_epochs+1):\n",
        "#     ### increment squared loss over entire epoch (dataset)\n",
        "#     epoch_total_loss = 0\n",
        "#     for input_example in inputs:\n",
        "#         # seems easiest to resize individual data points\n",
        "#         input_example_reshaped = tf.reshape(input_example, (1,1))\n",
        "#         with tf.GradientTape() as tape:\n",
        "#             # Compute the loss for the current input example (squared error)\n",
        "#             loss_curr = loss_fn.compute_loss_element(mlp, input_example_reshaped)\n",
        "#             print('LOSS SNAPSHOT: ', loss_curr)\n",
        "#             epoch_total_loss += loss_curr\n",
        "#         # Compute gradients and update model parameters\n",
        "#         gradients = tape.gradient(loss_curr, mlp.trainable_variables)\n",
        "#         optimizer.apply_gradients(zip(gradients, mlp.trainable_variables))\n",
        "#     epoch_avg_loss = epoch_total_loss / tf.cast(inputs.shape[0], tf.float32)\n",
        "#     print(f'Epoch {epoch} Average Loss: ', epoch_avg_loss[0][0])"
      ],
      "metadata": {
        "id": "8RAmZWZuBjw6",
        "collapsed": true
      },
      "execution_count": null,
      "outputs": []
    },
    {
      "cell_type": "code",
      "source": [
        "### batched training with Adam\n",
        "optimizer = keras.optimizers.Adam(learning_rate=1e-3)"
      ],
      "metadata": {
        "id": "3Yy_V9v3Nljs"
      },
      "execution_count": 73,
      "outputs": []
    },
    {
      "cell_type": "code",
      "source": [
        "dataset = tf.data.Dataset.from_tensor_slices(inputs)\n",
        "batch_size = 32 # Choose an appropriate batch size\n",
        "dataset = dataset.batch(batch_size)"
      ],
      "metadata": {
        "id": "8N9tZkM6NfvX"
      },
      "execution_count": 74,
      "outputs": []
    },
    {
      "cell_type": "code",
      "source": [
        "num_epochs = 50\n",
        "\n",
        "for epoch in range(1, num_epochs + 1):\n",
        "    epoch_total_loss = 0\n",
        "    num_batches = 0\n",
        "\n",
        "    for batch in dataset:\n",
        "        with tf.GradientTape() as tape:\n",
        "            batch_loss = loss_fn.mse_all_batch(mlp, batch)\n",
        "            epoch_total_loss += tf.reduce_sum(batch_loss)\n",
        "            num_batches += 1\n",
        "\n",
        "        gradients = tape.gradient(batch_loss, mlp.trainable_variables)\n",
        "        optimizer.apply_gradients(zip(gradients, mlp.trainable_variables))\n",
        "\n",
        "    epoch_avg_loss = epoch_total_loss / (num_batches * batch_size)\n",
        "    print(f'Epoch {epoch}, Average Loss: {epoch_avg_loss.numpy()}')\n"
      ],
      "metadata": {
        "id": "09GkzZoWrXVy",
        "outputId": "d3c3a9be-0be5-405b-d1d3-ce469750bd9d",
        "colab": {
          "base_uri": "https://localhost:8080/"
        }
      },
      "execution_count": null,
      "outputs": [
        {
          "output_type": "stream",
          "name": "stdout",
          "text": [
            "Epoch 1, Average Loss: 0.019402693957090378\n",
            "Epoch 2, Average Loss: 0.018797779455780983\n",
            "Epoch 3, Average Loss: 0.017422573640942574\n",
            "Epoch 4, Average Loss: 0.014135649427771568\n",
            "Epoch 5, Average Loss: 0.010121641680598259\n",
            "Epoch 6, Average Loss: 0.008467971347272396\n",
            "Epoch 7, Average Loss: 0.008163152262568474\n",
            "Epoch 8, Average Loss: 0.007886017672717571\n",
            "Epoch 9, Average Loss: 0.0074896072037518024\n",
            "Epoch 10, Average Loss: 0.006954866461455822\n",
            "Epoch 11, Average Loss: 0.006303055211901665\n",
            "Epoch 12, Average Loss: 0.005506617482751608\n"
          ]
        }
      ]
    },
    {
      "cell_type": "code",
      "source": [
        "import matplotlib\n",
        "import matplotlib.pyplot as plt"
      ],
      "metadata": {
        "id": "_ksWoG12OA3E"
      },
      "execution_count": 39,
      "outputs": []
    },
    {
      "cell_type": "code",
      "source": [
        "def analytic_solution(inputs, f0=0):\n",
        "  return inputs**2 + f0"
      ],
      "metadata": {
        "id": "iTQ-QBq1PMqH"
      },
      "execution_count": 67,
      "outputs": []
    },
    {
      "cell_type": "code",
      "source": [
        "inputs_np = inputs.numpy()\n",
        "mlp_outputs_np = loss_fn.approx_eval(mlp, inputs_np)\n",
        "analy_outputs_np = analytic_solution(inputs_np, f0=f0)"
      ],
      "metadata": {
        "id": "l-zWQtptOgls"
      },
      "execution_count": 68,
      "outputs": []
    },
    {
      "cell_type": "code",
      "source": [
        "plt.plot(inputs_np, mlp_outputs_np, label='MLP Solution')\n",
        "plt.plot(inputs_np, analy_outputs_np, label='Analytic Solution')\n",
        "plt.legend()\n",
        "plt.show()"
      ],
      "metadata": {
        "id": "ushykUsdOwE5",
        "outputId": "ab17a811-2c17-47d8-f435-c0c5a3dd5a14",
        "colab": {
          "base_uri": "https://localhost:8080/",
          "height": 430
        }
      },
      "execution_count": 70,
      "outputs": [
        {
          "output_type": "display_data",
          "data": {
            "text/plain": [
              "<Figure size 640x480 with 1 Axes>"
            ],
            "image/png": "[encoded data removed]"
          },
          "metadata": {}
        }
      ]
    },
    {
      "cell_type": "code",
      "source": [],
      "metadata": {
        "id": "MtrapfMjPcuA"
      },
      "execution_count": null,
      "outputs": []
    }
  ]
}