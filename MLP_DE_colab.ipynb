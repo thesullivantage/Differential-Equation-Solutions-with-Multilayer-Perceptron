{
  "nbformat": 4,
  "nbformat_minor": 0,
  "metadata": {
    "colab": {
      "provenance": []
    },
    "kernelspec": {
      "name": "python3",
      "display_name": "Python 3"
    },
    "language_info": {
      "name": "python"
    }
  },
  "cells": [
    {
      "cell_type": "code",
      "source": [
        "# Remove repo in local Colab storage if needed\n",
        "!rm -r Differential-Equation-Solutions-with-Multilayer-Perceptron"
      ],
      "metadata": {
        "id": "Voh4keEQB80B"
      },
      "execution_count": 43,
      "outputs": []
    },
    {
      "cell_type": "code",
      "source": [
        "# clone repo if we don't have in this session, specify branch after -b\n",
        "!git clone -b main https://github.com/thesullivantage/Differential-Equation-Solutions-with-Multilayer-Perceptron\n",
        "# if already exists, just pull in next cell"
      ],
      "metadata": {
        "colab": {
          "base_uri": "https://localhost:8080/"
        },
        "id": "Fgr9oWaoJkRS",
        "outputId": "5fabaad2-c4d9-4084-8091-7616d25a76e5"
      },
      "execution_count": 44,
      "outputs": [
        {
          "output_type": "stream",
          "name": "stdout",
          "text": [
            "Cloning into 'Differential-Equation-Solutions-with-Multilayer-Perceptron'...\n",
            "remote: Enumerating objects: 121, done.\u001b[K\n",
            "remote: Counting objects: 100% (121/121), done.\u001b[K\n",
            "remote: Compressing objects: 100% (78/78), done.\u001b[K\n",
            "remote: Total 121 (delta 58), reused 91 (delta 36), pack-reused 0\u001b[K\n",
            "Receiving objects: 100% (121/121), 27.67 KiB | 3.46 MiB/s, done.\n",
            "Resolving deltas: 100% (58/58), done.\n"
          ]
        }
      ]
    },
    {
      "cell_type": "code",
      "source": [
        "# Update (pull) repo from branch of our choosing\n",
        "!cd Differential-Equation-Solutions-with-Multilayer-Perceptron && git checkout main && git pull"
      ],
      "metadata": {
        "colab": {
          "base_uri": "https://localhost:8080/"
        },
        "id": "HQVc5OjKLLUd",
        "outputId": "333c85ae-f487-466d-ea92-e579cee94f52"
      },
      "execution_count": 45,
      "outputs": [
        {
          "output_type": "stream",
          "name": "stdout",
          "text": [
            "Already on 'main'\n",
            "Your branch is up to date with 'origin/main'.\n",
            "Already up to date.\n"
          ]
        }
      ]
    },
    {
      "cell_type": "code",
      "source": [
        "import sys\n",
        "import os\n",
        "from importlib import reload"
      ],
      "metadata": {
        "id": "OJVxPN7FGCqF"
      },
      "execution_count": 46,
      "outputs": []
    },
    {
      "cell_type": "code",
      "source": [
        "sys.path.insert(0, 'Differential-Equation-Solutions-with-Multilayer-Perceptron')"
      ],
      "metadata": {
        "id": "xCJTKUcpKecQ"
      },
      "execution_count": 47,
      "outputs": []
    },
    {
      "cell_type": "code",
      "source": [
        "# to reload modules as we make changes\n",
        "reload(loss)\n",
        "reload(model)\n"
      ],
      "metadata": {
        "id": "T7a__mMvjqDT",
        "colab": {
          "base_uri": "https://localhost:8080/"
        },
        "outputId": "9f9f5c59-7f46-427f-9dfb-7ad4b10baff6"
      },
      "execution_count": 48,
      "outputs": [
        {
          "output_type": "execute_result",
          "data": {
            "text/plain": [
              "<module 'model_pk.model' from '/content/Differential-Equation-Solutions-with-Multilayer-Perceptron/model_pk/model.py'>"
            ]
          },
          "metadata": {},
          "execution_count": 48
        }
      ]
    },
    {
      "cell_type": "code",
      "source": [
        "import model_pk\n",
        "from model_pk import loss, model"
      ],
      "metadata": {
        "id": "nzWuuLwtGEqz"
      },
      "execution_count": 49,
      "outputs": []
    },
    {
      "cell_type": "code",
      "source": [
        "import sys\n",
        "import tensorflow.keras as keras\n",
        "import tensorflow as tf"
      ],
      "metadata": {
        "id": "Z4tPfmQpGO3M"
      },
      "execution_count": 50,
      "outputs": []
    },
    {
      "cell_type": "code",
      "source": [
        "# Range of independent variable values\n",
        "start = 1 # Start value\n",
        "limit = 100  # End value (exclusive)\n",
        "delta = 0.1  # Step size"
      ],
      "metadata": {
        "id": "Ck1ecr_0_-F5"
      },
      "execution_count": 51,
      "outputs": []
    },
    {
      "cell_type": "code",
      "source": [
        "optimizer = keras.optimizers.SGD(learning_rate=1e-3)\n",
        "mlp = model.MLP(num_embed_layer=2, phys_dimension=1,embed_dim=32)\n",
        "loss_fn = loss.LossODE(f0=0, dell=1e-4)\n"
      ],
      "metadata": {
        "id": "LD7qFuDKH5ka"
      },
      "execution_count": 52,
      "outputs": []
    },
    {
      "cell_type": "code",
      "source": [
        "# Make simple ODE domain for f'(x) = 2x: STANDARDIZED OR NORMALIZED\n",
        "phys_dimension = 1\n",
        "# Range of independent variable values\n",
        "start = 0  # Start value\n",
        "limit = 1  # End value (exclusive)\n",
        "delta = 0.01  # Step size\n",
        "\n",
        "# Create a TensorFlow array in the style of np.arange\n",
        "inputs = tf.reshape(tf.range(start, limit, delta, dtype=tf.float32), (-1, phys_dimension))\n"
      ],
      "metadata": {
        "id": "j16lPLp7HPaa"
      },
      "execution_count": 54,
      "outputs": []
    },
    {
      "cell_type": "code",
      "source": [
        "# Training loop\n",
        "num_epochs = 25  # Define the number of epochs\n",
        "\n",
        "### Trained using SGD optimization (MSE), without replacement\n",
        "### n (dim. inputs) gradient updates\n",
        "for epoch in range(1, num_epochs+1):\n",
        "    ### increment squared loss over entire epoch (dataset)\n",
        "    epoch_total_loss = 0\n",
        "    for input_example in standardized_inputs:\n",
        "        # seems easiest to resize individual data points\n",
        "        input_example_reshaped = tf.reshape(input_example, (1,1))\n",
        "        with tf.GradientTape() as tape:\n",
        "            # Compute the loss for the current input example (squared error)\n",
        "            loss_curr = loss_fn.compute_loss_element(mlp, input_example_reshaped)\n",
        "            epoch_total_loss += loss_curr\n",
        "        # Compute gradients and update model parameters\n",
        "        gradients = tape.gradient(loss_curr, mlp.trainable_variables)\n",
        "        optimizer.apply_gradients(zip(gradients, mlp.trainable_variables))\n",
        "    epoch_avg_loss = epoch_total_loss / tf.cast(inputs.shape[0], tf.float32)\n",
        "    print(f'Epoch {epoch} Average Loss: ', epoch_avg_loss[0][0])"
      ],
      "metadata": {
        "colab": {
          "base_uri": "https://localhost:8080/"
        },
        "id": "8RAmZWZuBjw6",
        "outputId": "db01de35-80a2-4127-c132-5933887a5425",
        "collapsed": true
      },
      "execution_count": 57,
      "outputs": [
        {
          "output_type": "stream",
          "name": "stdout",
          "text": [
            "Epoch 1 Average Loss:  tf.Tensor(23.991392, shape=(), dtype=float32)\n",
            "Epoch 2 Average Loss:  tf.Tensor(23.991392, shape=(), dtype=float32)\n",
            "Epoch 3 Average Loss:  tf.Tensor(23.991392, shape=(), dtype=float32)\n",
            "Epoch 4 Average Loss:  tf.Tensor(23.991392, shape=(), dtype=float32)\n",
            "Epoch 5 Average Loss:  tf.Tensor(23.991392, shape=(), dtype=float32)\n",
            "Epoch 6 Average Loss:  tf.Tensor(23.991392, shape=(), dtype=float32)\n",
            "Epoch 7 Average Loss:  tf.Tensor(23.991392, shape=(), dtype=float32)\n",
            "Epoch 8 Average Loss:  tf.Tensor(23.991392, shape=(), dtype=float32)\n",
            "Epoch 9 Average Loss:  tf.Tensor(23.991392, shape=(), dtype=float32)\n",
            "Epoch 10 Average Loss:  tf.Tensor(23.991392, shape=(), dtype=float32)\n",
            "Epoch 11 Average Loss:  tf.Tensor(23.991392, shape=(), dtype=float32)\n",
            "Epoch 12 Average Loss:  tf.Tensor(23.991392, shape=(), dtype=float32)\n",
            "Epoch 13 Average Loss:  tf.Tensor(23.991392, shape=(), dtype=float32)\n",
            "Epoch 14 Average Loss:  tf.Tensor(23.991392, shape=(), dtype=float32)\n",
            "Epoch 15 Average Loss:  tf.Tensor(23.991392, shape=(), dtype=float32)\n",
            "Epoch 16 Average Loss:  tf.Tensor(23.991392, shape=(), dtype=float32)\n",
            "Epoch 17 Average Loss:  tf.Tensor(23.991392, shape=(), dtype=float32)\n",
            "Epoch 18 Average Loss:  tf.Tensor(23.991392, shape=(), dtype=float32)\n",
            "Epoch 19 Average Loss:  tf.Tensor(23.991392, shape=(), dtype=float32)\n",
            "Epoch 20 Average Loss:  tf.Tensor(23.991392, shape=(), dtype=float32)\n",
            "Epoch 21 Average Loss:  tf.Tensor(23.991392, shape=(), dtype=float32)\n",
            "Epoch 22 Average Loss:  tf.Tensor(23.991392, shape=(), dtype=float32)\n",
            "Epoch 23 Average Loss:  tf.Tensor(23.991392, shape=(), dtype=float32)\n",
            "Epoch 24 Average Loss:  tf.Tensor(23.991392, shape=(), dtype=float32)\n",
            "Epoch 25 Average Loss:  tf.Tensor(23.991392, shape=(), dtype=float32)\n"
          ]
        }
      ]
    },
    {
      "cell_type": "code",
      "source": [],
      "metadata": {
        "id": "09GkzZoWrXVy"
      },
      "execution_count": null,
      "outputs": []
    }
  ]
}